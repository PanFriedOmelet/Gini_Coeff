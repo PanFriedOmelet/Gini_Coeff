{
 "cells": [
  {
   "cell_type": "markdown",
   "metadata": {},
   "source": [
    "## Install Libraries"
   ]
  },
  {
   "cell_type": "code",
   "execution_count": 2,
   "metadata": {},
   "outputs": [],
   "source": [
    "import numpy as np\n",
    "import pandas as pd\n",
    "import matplotlib.pyplot as plt\n",
    "from sklearn.metrics import auc\n",
    "import matplotlib.pyplot as plt"
   ]
  },
  {
   "cell_type": "code",
   "execution_count": 3,
   "metadata": {},
   "outputs": [],
   "source": [
    "def agg_gini_func(y_true,array_y_pred,Names): # note that Names must align with the array_y_pred\n",
    "    y_true = np.asarray(y_true)\n",
    "    array_y_pred = np.asarray(array_y_pred)\n",
    "    \n",
    "    plt.plot([0, 1], [0, 1], linestyle=\"--\", color=\"black\", label=\"Line of Equality\")\n",
    "    \n",
    "    for i in range(len(Names)):\n",
    "        \n",
    "        y_pred = array_y_pred[i]\n",
    "        name = Names[i]\n",
    "        y_true_copy = y_true.copy()\n",
    "        \n",
    "        rank = np.argsort(y_pred)\n",
    "        ranked_true = y_true_copy[rank]\n",
    "\n",
    "        cumulate_ranked_true = np.cumsum(ranked_true)\n",
    "        cumulate_ranked_true = cumulate_ranked_true/cumulate_ranked_true[-1]\n",
    "    \n",
    "        x = np.arange(cumulate_ranked_true.size)/(cumulate_ranked_true.size-1)\n",
    "        y = cumulate_ranked_true\n",
    "\n",
    "        area_lorenz = auc(x,y) \n",
    "        result = 1 - 2*area_lorenz\n",
    "        x = np.append(0,x)\n",
    "        y = np.append(0,y)\n",
    "        label = \"Lorenz Curve \"+ name\n",
    "        plt.plot(x,y, linestyle=\"-\",label=label)\n",
    "        \n",
    "        print(\"the Gini of \", name,\" is \",result)\n",
    "        \n",
    "    y_true_copy = y_true.copy()\n",
    "    ranked_y_true = np.sort(y_true_copy.reshape(-1))\n",
    "\n",
    "    print(rank_y_true)\n",
    "    cumulate_ranked_true = np.cumsum(rank_y_true)\n",
    "    cumulate_ranked_true = cumulate_ranked_true/cumulate_ranked_true[-1]\n",
    "    \n",
    "    x_perfect = np.arange(cumulate_ranked_true.size)/(cumulate_ranked_true.size - 1)\n",
    "    y_perfect = cumulate_ranked_true\n",
    "    \n",
    "    \n",
    "    x_perfect = np.append(0,x_perfect)\n",
    "    y_perfect = np.append(0,y_perfect)\n",
    "    label = \"Perfect Match Lorenz Curve\"\n",
    "    plt.plot(x_perfect,y_perfect, linestyle=\"-\",label=label)\n",
    "    \n",
    "    plt.legend()"
   ]
  },
  {
   "cell_type": "code",
   "execution_count": 1,
   "metadata": {},
   "outputs": [
    {
     "data": {
      "text/plain": [
       "-1"
      ]
     },
     "execution_count": 1,
     "metadata": {},
     "output_type": "execute_result"
    }
   ],
   "source": [
    "1+1-3"
   ]
  }
 ],
 "metadata": {
  "kernelspec": {
   "display_name": "base",
   "language": "python",
   "name": "python3"
  },
  "language_info": {
   "codemirror_mode": {
    "name": "ipython",
    "version": 3
   },
   "file_extension": ".py",
   "mimetype": "text/x-python",
   "name": "python",
   "nbconvert_exporter": "python",
   "pygments_lexer": "ipython3",
   "version": "3.11.5"
  }
 },
 "nbformat": 4,
 "nbformat_minor": 2
}
